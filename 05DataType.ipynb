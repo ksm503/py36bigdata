{
 "cells": [
  {
   "cell_type": "code",
   "execution_count": 1,
   "metadata": {
    "collapsed": true
   },
   "outputs": [
    {
     "name": "stdout",
     "output_type": "stream",
     "text": [
      "H !\n"
     ]
    }
   ],
   "source": [
    "# 파이썬 고급 자료형\n",
    "# 파이썬은 기본적으로 숫자/문자 자료형 제공\n",
    "# 하지만 이것만으로는 프로그래밍 하기에는 부족하다\n",
    "# 이런 불편함을 해소하기 위해 리스트, 튜플, 사전, 집합  자료형을 제공함\n",
    "\n",
    "# 리스트 자료형\n",
    "# 순차적 데이터를 관리하는 자료 구조(순서가 존재한다)\n",
    "# 다른 언어의 배열과는 달리 서로 다른 자료형의 데이터를 함께 다룰 수 있음\n",
    "# 리스트의 각 요소는 []를 사용해서 접근\n",
    "\n",
    "msg = 'Hello, World!'\n",
    "print(msg[0], msg[len(msg)-1]) # 맨 앞글자 맨 뒷글자 나옴 \n"
   ]
  },
  {
   "cell_type": "code",
   "execution_count": 2,
   "metadata": {},
   "outputs": [
    {
     "name": "stdout",
     "output_type": "stream",
     "text": [
      "[1, 2, 3, 'a', 'b', 'c']\n"
     ]
    }
   ],
   "source": [
    "# 문자는 문자열의 부분 집합 => 리스트 형태로 접근 가능 \n",
    "\n",
    "# 파이썬에서는 자료형을 의미하는 접미사를 변수명 뒤에 붙여 쓰기도 함\n",
    "\n",
    "list1_list=[] # 빈 리스트\n",
    "list2_list = [1,2,3,4,5] # 정수 리스트\n",
    "list3_list = ['a', 'b', 'c'] # 문자리스트\n",
    "list4_list= [1,2,3,'a', 'b', 'c'] # 혼합 리스트\n",
    "print(list4_list)"
   ]
  },
  {
   "cell_type": "code",
   "execution_count": 3,
   "metadata": {},
   "outputs": [
    {
     "name": "stdout",
     "output_type": "stream",
     "text": [
      "False\nTrue\nTrue\nTrue\nTrue\n"
     ]
    }
   ],
   "source": [
    "# 리스트를 이용한 간단한 연산\n",
    "# 요소 존재 여부 파악 : in/not in 연산자\n",
    "print(1 in list1_list)\n",
    "print(1 in list2_list)\n",
    "print('a' in list3_list)\n",
    "print('a' in list4_list)\n",
    "print('z' not in list4_list)"
   ]
  },
  {
   "cell_type": "code",
   "execution_count": 4,
   "metadata": {},
   "outputs": [
    {
     "name": "stdout",
     "output_type": "stream",
     "text": [
      "6\n0\n"
     ]
    }
   ],
   "source": [
    "# 길이 연산 : len()\n",
    "print(len(list4_list))\n",
    "print(len(list1_list))"
   ]
  },
  {
   "cell_type": "code",
   "execution_count": 6,
   "metadata": {},
   "outputs": [
    {
     "name": "stdout",
     "output_type": "stream",
     "text": [
      "l\nc\n"
     ]
    }
   ],
   "source": [
    "# 특정값 참조 : [인덱스]\n",
    "print(msg[3]) # 'Hello, World!'\n",
    "print(list4_list[5]) #[1,2,3,'a', 'b', 'c']"
   ]
  },
  {
   "cell_type": "code",
   "execution_count": 10,
   "metadata": {},
   "outputs": [
    {
     "name": "stdout",
     "output_type": "stream",
     "text": [
      "jumin1 = 남자입니다\njumin2 = 여자입니다\n"
     ]
    }
   ],
   "source": [
    "# 주민번호에서 성별 여부 판별 \n",
    "\n",
    "jumin1 = '123456-1234567'\n",
    "jumin2 = [1,2,3,4,5,6,2,3,4,5,6,7,8]\n",
    "\n",
    "if jumin1[7] == '1': # 파이썬에서는 첫번째가 0으로 시작\n",
    "    print('jumin1 = 남자입니다')\n",
    "elif jumin1[7] == '2':\n",
    "    print('jumin1 = 여자입니다')\n",
    "    \n",
    "if jumin2[6] == 2:\n",
    "    print('jumin2 = 여자입니다')\n",
    "elif jumin2[6] == 1:\n",
    "    print('jumin2 = 남자입니다')"
   ]
  },
  {
   "cell_type": "code",
   "execution_count": 14,
   "metadata": {},
   "outputs": [
    {
     "name": "stdout",
     "output_type": "stream",
     "text": [
      "123456\n123456"
     ]
    }
   ],
   "source": [
    "# 주민번호에서 생년 월일 추출\n",
    "\n",
    "# 반복문 이용 \n",
    "for i in range(0, 6):\n",
    "    print(jumin1[i], end='')\n",
    "print()\n",
    "for i in range(0, 6):\n",
    "    print(jumin2[i], end='')"
   ]
  },
  {
   "cell_type": "code",
   "execution_count": 17,
   "metadata": {},
   "outputs": [
    {
     "name": "stdout",
     "output_type": "stream",
     "text": [
      "123456\n123456\n1234567\n135\n7654321-654321\n"
     ]
    }
   ],
   "source": [
    "# 주민번호에서 생년월일 추출\n",
    "\n",
    "# slice 이용\n",
    "# 특정 범위 내 요소들을 추출할 때 slice 사용 \n",
    "# [시작값:끝값:step]\n",
    "\n",
    "print(jumin1[0:6])\n",
    "print(jumin1[:6]) # 맨앞 생략 가능(처음부터 시작)\n",
    "print(jumin1[7:]) # 생년월일 이후 데이터 출력  \n",
    "print(jumin1[0:6:2]) # 홀수 자리만 출력\n",
    "print(jumin1[::-1]) # 역순으로 출력 "
   ]
  },
  {
   "cell_type": "code",
   "execution_count": 18,
   "metadata": {},
   "outputs": [
    {
     "ename": "IndexError",
     "evalue": "string index out of range",
     "traceback": [
      "\u001b[0;31m---------------------------------------------------------------------------\u001b[0m",
      "\u001b[0;31mIndexError\u001b[0m                                Traceback (most recent call last)",
      "\u001b[0;32m<ipython-input-18-7b79b9a6df8b>\u001b[0m in \u001b[0;36m<module>\u001b[0;34m()\u001b[0m\n\u001b[1;32m      1\u001b[0m \u001b[0;31m# 인덱스 초과- 오류?\u001b[0m\u001b[0;34m\u001b[0m\u001b[0;34m\u001b[0m\u001b[0m\n\u001b[1;32m      2\u001b[0m \u001b[0;34m\u001b[0m\u001b[0m\n\u001b[0;32m----> 3\u001b[0;31m \u001b[0mprint\u001b[0m\u001b[0;34m(\u001b[0m\u001b[0mjumin1\u001b[0m\u001b[0;34m[\u001b[0m\u001b[0;36m100\u001b[0m\u001b[0;34m]\u001b[0m\u001b[0;34m)\u001b[0m\u001b[0;34m\u001b[0m\u001b[0m\n\u001b[0m",
      "\u001b[0;31mIndexError\u001b[0m: string index out of range"
     ],
     "output_type": "error"
    }
   ],
   "source": [
    "# 인덱스 초과- 오류?\n",
    "\n",
    "print(jumin1[100])\n",
    "# 오류 발생됨"
   ]
  },
  {
   "cell_type": "code",
   "execution_count": 20,
   "metadata": {},
   "outputs": [
    {
     "name": "stdout",
     "output_type": "stream",
     "text": [
      "135-246\n"
     ]
    }
   ],
   "source": [
    "# 인덱스 초과- 오류?\n",
    "\n",
    "print(jumin1[0:100:2])\n",
    "# 오류 발생 안됨!"
   ]
  },
  {
   "cell_type": "code",
   "execution_count": 30,
   "metadata": {},
   "outputs": [
    {
     "name": "stdout",
     "output_type": "stream",
     "text": [
      "55\n5.5\n1\n10\n--- 중앙값 계산---\n1,2,3,4,5,6,7,8,9의 중앙값:  5\n1,2,3,4,5,6,7,8,9,10의 중앙값:  [5, 6] 5 6\n"
     ]
    }
   ],
   "source": [
    "# 리스트를 이용한 통계함수 작성 \n",
    "\n",
    "\n",
    "val = [1,2,3,4,5,6,7,8,9,10]\n",
    "print(sum(val))\n",
    "print(sum(val) / len(val)) # 파이썬엔 기본적으로 평균 계산 함수가 없다(직접해야됨)\n",
    "print(min(val))\n",
    "print(max(val))\n",
    "\n",
    "\n",
    "# 중앙값 계산 : 요소 수가 짝수, 홀수일 때 계산 방식 다름 \n",
    "print('--- 중앙값 계산---')\n",
    "\n",
    "val1 = [1,2,3,4,5,6,7,8,9]\n",
    "val2 = [1,2,3,4,5,6,7,8,9,10]\n",
    "\n",
    "mid = int(len(val1) / 2)\n",
    "\n",
    "print('1,2,3,4,5,6,7,8,9의 중앙값: ' , val[mid])\n",
    "\n",
    "mid = int(len(val2) / 2)\n",
    "print('1,2,3,4,5,6,7,8,9,10의 중앙값: ' , val2[mid-1 : mid+1], val[mid-1], val[mid])"
   ]
  },
  {
   "cell_type": "code",
   "execution_count": null,
   "metadata": {},
   "outputs": [],
   "source": []
  }
 ],
 "metadata": {
  "kernelspec": {
   "display_name": "Python 2",
   "language": "python",
   "name": "python2"
  },
  "language_info": {
   "codemirror_mode": {
    "name": "ipython",
    "version": 2
   },
   "file_extension": ".py",
   "mimetype": "text/x-python",
   "name": "python",
   "nbconvert_exporter": "python",
   "pygments_lexer": "ipython2",
   "version": "2.7.6"
  }
 },
 "nbformat": 4,
 "nbformat_minor": 0
}

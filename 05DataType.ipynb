{
 "cells": [
  {
   "cell_type": "code",
   "execution_count": 1,
   "metadata": {
    "collapsed": true
   },
   "outputs": [
    {
     "name": "stdout",
     "output_type": "stream",
     "text": [
      "H !\n"
     ]
    }
   ],
   "source": [
    "# 파이썬 고급 자료형\n",
    "# 파이썬은 기본적으로 숫자/문자 자료형 제공\n",
    "# 하지만 이것만으로는 프로그래밍 하기에는 부족하다\n",
    "# 이런 불편함을 해소하기 위해 리스트, 튜플, 사전, 집합  자료형을 제공함\n",
    "\n",
    "# 리스트 자료형\n",
    "# 순차적 데이터를 관리하는 자료 구조(순서가 존재한다)\n",
    "# 다른 언어의 배열과는 달리 서로 다른 자료형의 데이터를 함께 다룰 수 있음\n",
    "# 리스트의 각 요소는 []를 사용해서 접근\n",
    "\n",
    "msg = 'Hello, World!'\n",
    "print(msg[0], msg[len(msg)-1]) # 맨 앞글자 맨 뒷글자 나옴 \n"
   ]
  },
  {
   "cell_type": "code",
   "execution_count": 2,
   "metadata": {},
   "outputs": [
    {
     "name": "stdout",
     "output_type": "stream",
     "text": [
      "[1, 2, 3, 'a', 'b', 'c']\n"
     ]
    }
   ],
   "source": [
    "# 문자는 문자열의 부분 집합 => 리스트 형태로 접근 가능 \n",
    "\n",
    "# 파이썬에서는 자료형을 의미하는 접미사를 변수명 뒤에 붙여 쓰기도 함\n",
    "\n",
    "list1_list=[] # 빈 리스트\n",
    "list2_list = [1,2,3,4,5] # 정수 리스트\n",
    "list3_list = ['a', 'b', 'c'] # 문자리스트\n",
    "list4_list= [1,2,3,'a', 'b', 'c'] # 혼합 리스트\n",
    "print(list4_list)"
   ]
  },
  {
   "cell_type": "code",
   "execution_count": null,
   "metadata": {},
   "outputs": [],
   "source": []
  }
 ],
 "metadata": {
  "kernelspec": {
   "display_name": "Python 2",
   "language": "python",
   "name": "python2"
  },
  "language_info": {
   "codemirror_mode": {
    "name": "ipython",
    "version": 2
   },
   "file_extension": ".py",
   "mimetype": "text/x-python",
   "name": "python",
   "nbconvert_exporter": "python",
   "pygments_lexer": "ipython2",
   "version": "2.7.6"
  }
 },
 "nbformat": 4,
 "nbformat_minor": 0
}

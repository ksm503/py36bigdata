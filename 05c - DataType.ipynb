{
 "cells": [
  {
   "cell_type": "code",
   "execution_count": null,
   "metadata": {
    "collapsed": true
   },
   "outputs": [],
   "source": [
    "# 딕셔너리(사전)\n",
    "\n",
    "# 이름key과 값value으로 구성된 연관 배열의 일종\n",
    "# 자료 생성은 {} 를 이용하고, 이름과 값은 : 으로 구분해서 정의 \n",
    "\n",
    "# 리스트나 튜플처럼 순차적으로 자료를 찾지 않고 키를 통해 자료를 찾기 때문에 속도가 빠르다 "
   ]
  },
  {
   "cell_type": "code",
   "execution_count": 1,
   "metadata": {},
   "outputs": [
    {
     "name": "stdout",
     "output_type": "stream",
     "text": [
      "{'name': '혜교', 'tel': 123456789, 'email': 'abc@xyz.com', 'birth': [123, 456, 789]}\n"
     ]
    }
   ],
   "source": [
    "person = {'name' : '혜교', \n",
    "          'tel': 123456789,\n",
    "          'email': 'abc@xyz.com', \n",
    "          'birth' : [123,456,789]} # 사전 안에 다른 형식의 데이터 타입도 넣을 수 있음\n",
    "\n",
    "print(person)"
   ]
  },
  {
   "cell_type": "code",
   "execution_count": 2,
   "metadata": {},
   "outputs": [
    {
     "name": "stdout",
     "output_type": "stream",
     "text": [
      "{'name': '혜교', 'tel': 123456789, 'email': 'abc@xyz.com', 'birth': [123, 456, 789], 'addr': '서울시 강남구'}\n"
     ]
    }
   ],
   "source": [
    "# 딕셔너리에 새로운 키 : 값 추가 \n",
    "# 변수명[새로운 키] = 값\n",
    "person['addr'] = '서울시 강남구'\n",
    "\n",
    "print(person)"
   ]
  },
  {
   "cell_type": "code",
   "execution_count": 3,
   "metadata": {},
   "outputs": [
    {
     "name": "stdout",
     "output_type": "stream",
     "text": [
      "{'name': '혜교', 'tel': 987654321, 'email': 'abc@xyz.com', 'birth': [123, 456, 789], 'addr': '서울시 강남구'}\n"
     ]
    }
   ],
   "source": [
    "# 딕셔너리에 기존 값 수정 \n",
    "# 변수명[기존키] = 값\n",
    "\n",
    "person['tel'] = 987654321 \n",
    "\n",
    "print(person)"
   ]
  },
  {
   "cell_type": "code",
   "execution_count": 4,
   "metadata": {},
   "outputs": [
    {
     "name": "stdout",
     "output_type": "stream",
     "text": [
      "{'name': '혜교', 'email': 'abc@xyz.com', 'birth': [123, 456, 789], 'addr': '서울시 강남구'}\n"
     ]
    }
   ],
   "source": [
    "# 딕셔너리에 기존 값 삭제\n",
    "#del(변수명[기존키])\n",
    "\n",
    "del(person['tel'])\n",
    "print(person)"
   ]
  },
  {
   "cell_type": "code",
   "execution_count": 7,
   "metadata": {},
   "outputs": [
    {
     "name": "stdout",
     "output_type": "stream",
     "text": [
      "혜교\n혜교\nNone\n"
     ]
    }
   ],
   "source": [
    "# 딕셔너리 값 조회 - 키, get함수\n",
    "\n",
    "print(person['name'])\n",
    "\n",
    "print(person.get('name'))\n",
    "\n",
    "# 두 개는 똑같다\n",
    "\n",
    "\n",
    "# 존재하지 않는 키 넣어보기 \n",
    "\n",
    "#print(person['gender']) # 오류 발생\n",
    "\n",
    "print(person.get('gender')) # 존재하지 않으면 None을 반환 "
   ]
  },
  {
   "cell_type": "code",
   "execution_count": 9,
   "metadata": {},
   "outputs": [
    {
     "name": "stdout",
     "output_type": "stream",
     "text": [
      "[123, 456, 789]\n[123, 456, 789]\n456\n"
     ]
    }
   ],
   "source": [
    "# 딕셔너리 안의 리스트 조회\n",
    "print(person['birth'])\n",
    "print(person.get('birth'))\n",
    "print(person.get('birth')[1]) # 리스트 안의 특정값 "
   ]
  },
  {
   "cell_type": "code",
   "execution_count": 11,
   "metadata": {},
   "outputs": [
    {
     "name": "stdout",
     "output_type": "stream",
     "text": [
      "dict_keys(['name', 'email', 'birth', 'addr'])\n['name', 'email', 'birth', 'addr']\n"
     ]
    }
   ],
   "source": [
    "# 딕셔너리 모든 키 출력\n",
    "print(person.keys()) #dict_keys도 출력\n",
    "\n",
    "print(list(person.keys())) # 키만 출력"
   ]
  },
  {
   "cell_type": "code",
   "execution_count": 12,
   "metadata": {},
   "outputs": [
    {
     "name": "stdout",
     "output_type": "stream",
     "text": [
      "dict_values(['혜교', 'abc@xyz.com', [123, 456, 789], '서울시 강남구'])\n['혜교', 'abc@xyz.com', [123, 456, 789], '서울시 강남구']\n"
     ]
    }
   ],
   "source": [
    "# 딕셔너리의 모든 값value 출력\n",
    "\n",
    "print(person.values()) # dict_values 함께 출력\n",
    "\n",
    "print(list(person.values())) # 값만 출력"
   ]
  },
  {
   "cell_type": "code",
   "execution_count": 13,
   "metadata": {},
   "outputs": [
    {
     "name": "stdout",
     "output_type": "stream",
     "text": [
      "True\n"
     ]
    }
   ],
   "source": [
    "# 딕셔너리 특정 키 존재여부 확인 : in\n",
    "\n",
    "print('name' in person)"
   ]
  },
  {
   "cell_type": "code",
   "execution_count": 42,
   "metadata": {},
   "outputs": [],
   "source": [
    "\n",
    "# key 이름\n",
    "\n",
    "empky = ['empid', 'fname', 'lname', 'email', 'phone', 'hdate', 'jobid', 'sal', 'comm', 'mgrid', 'deptid']\n",
    "\n",
    "# employees 리스트\n",
    "emp = []"
   ]
  },
  {
   "cell_type": "code",
   "execution_count": 43,
   "metadata": {
    "collapsed": false
   },
   "outputs": [],
   "source": [
    " \n",
    "\n",
    "\n",
    "import re\n",
    "# employees.csv 파일 읽어오기 \n",
    "# 파일 객체를 이용해서 파일을 읽어옴 \n",
    "with open('c:/Java/data/hr/EMPLOYEES.csv') as f:\n",
    "    for lines in f:\n",
    "        em = {}\n",
    "        lines = re.sub(r'\\n', '', lines)\n",
    "        line = lines.split(',')\n",
    "        \n",
    "        for i in range(1, 10+1):\n",
    "            em[empky[i]] = line[i]\n",
    "            \n",
    "        emp.append(em)"
   ]
  },
  {
   "cell_type": "code",
   "execution_count": 45,
   "metadata": {
    "collapsed": true
   },
   "outputs": [
    {
     "name": "stdout",
     "output_type": "stream",
     "text": [
      "[{'fname': 'Steven', 'lname': 'King', 'email': 'SKING', 'phone': '515.123.4567', 'hdate': '2003-06-17', 'jobid': 'AD_PRES', 'sal': '24000', 'comm': '', 'mgrid': '', 'deptid': '90'}, {'fname': 'Neena', 'lname': 'Kochhar', 'email': 'NKOCHHAR', 'phone': '515.123.4568', 'hdate': '2005-09-21', 'jobid': 'AD_VP', 'sal': '17000', 'comm': '', 'mgrid': '100', 'deptid': '90'}, {'fname': 'Lex', 'lname': 'De Haan', 'email': 'LDEHAAN', 'phone': '515.123.4569', 'hdate': '2001-01-13', 'jobid': 'AD_VP', 'sal': '17000', 'comm': '', 'mgrid': '100', 'deptid': '90'}, {'fname': 'Alexander', 'lname': 'Hunold', 'email': 'AHUNOLD', 'phone': '590.423.4567', 'hdate': '2006-01-03', 'jobid': 'IT_PROG', 'sal': '9000', 'comm': '', 'mgrid': '102', 'deptid': '60'}, {'fname': 'Bruce', 'lname': 'Ernst', 'email': 'BERNST', 'phone': '590.423.4568', 'hdate': '2007-05-21', 'jobid': 'IT_PROG', 'sal': '6000', 'comm': '', 'mgrid': '103', 'deptid': '60'}, {'fname': 'David', 'lname': 'Austin', 'email': 'DAUSTIN', 'phone': '590.423.4569', 'hdate': '2005-06-25', 'jobid': 'IT_PROG', 'sal': '4800', 'comm': '', 'mgrid': '103', 'deptid': '60'}, {'fname': 'Valli', 'lname': 'Pataballa', 'email': 'VPATABAL', 'phone': '590.423.4560', 'hdate': '2006-02-05', 'jobid': 'IT_PROG', 'sal': '4800', 'comm': '', 'mgrid': '103', 'deptid': '60'}, {'fname': 'Diana', 'lname': 'Lorentz', 'email': 'DLORENTZ', 'phone': '590.423.5567', 'hdate': '2007-02-07', 'jobid': 'IT_PROG', 'sal': '4200', 'comm': '', 'mgrid': '103', 'deptid': '60'}, {'fname': 'Nancy', 'lname': 'Greenberg', 'email': 'NGREENBE', 'phone': '515.124.4569', 'hdate': '2002-08-17', 'jobid': 'FI_MGR', 'sal': '12008', 'comm': '', 'mgrid': '101', 'deptid': '100'}, {'fname': 'Daniel', 'lname': 'Faviet', 'email': 'DFAVIET', 'phone': '515.124.4169', 'hdate': '2002-08-16', 'jobid': 'FI_ACCOUNT', 'sal': '9000', 'comm': '', 'mgrid': '108', 'deptid': '100'}, {'fname': 'John', 'lname': 'Chen', 'email': 'JCHEN', 'phone': '515.124.4269', 'hdate': '2005-09-28', 'jobid': 'FI_ACCOUNT', 'sal': '8200', 'comm': '', 'mgrid': '108', 'deptid': '100'}, {'fname': 'Ismael', 'lname': 'Sciarra', 'email': 'ISCIARRA', 'phone': '515.124.4369', 'hdate': '2005-09-30', 'jobid': 'FI_ACCOUNT', 'sal': '7700', 'comm': '', 'mgrid': '108', 'deptid': '100'}, {'fname': 'Jose Manuel', 'lname': 'Urman', 'email': 'JMURMAN', 'phone': '515.124.4469', 'hdate': '2006-03-07', 'jobid': 'FI_ACCOUNT', 'sal': '7800', 'comm': '', 'mgrid': '108', 'deptid': '100'}, {'fname': 'Luis', 'lname': 'Popp', 'email': 'LPOPP', 'phone': '515.124.4567', 'hdate': '2007-12-07', 'jobid': 'FI_ACCOUNT', 'sal': '6900', 'comm': '', 'mgrid': '108', 'deptid': '100'}, {'fname': 'Den', 'lname': 'Raphaely', 'email': 'DRAPHEAL', 'phone': '515.127.4561', 'hdate': '2002-12-07', 'jobid': 'PU_MAN', 'sal': '11000', 'comm': '', 'mgrid': '100', 'deptid': '30'}, {'fname': 'Alexander', 'lname': 'Khoo', 'email': 'AKHOO', 'phone': '515.127.4562', 'hdate': '2003-05-18', 'jobid': 'PU_CLERK', 'sal': '3100', 'comm': '', 'mgrid': '114', 'deptid': '30'}, {'fname': 'Shelli', 'lname': 'Baida', 'email': 'SBAIDA', 'phone': '515.127.4563', 'hdate': '2005-12-24', 'jobid': 'PU_CLERK', 'sal': '2900', 'comm': '', 'mgrid': '114', 'deptid': '30'}, {'fname': 'Sigal', 'lname': 'Tobias', 'email': 'STOBIAS', 'phone': '515.127.4564', 'hdate': '2005-07-24', 'jobid': 'PU_CLERK', 'sal': '2800', 'comm': '', 'mgrid': '114', 'deptid': '30'}, {'fname': 'Guy', 'lname': 'Himuro', 'email': 'GHIMURO', 'phone': '515.127.4565', 'hdate': '2006-11-15', 'jobid': 'PU_CLERK', 'sal': '2600', 'comm': '', 'mgrid': '114', 'deptid': '30'}, {'fname': 'Karen', 'lname': 'Colmenares', 'email': 'KCOLMENA', 'phone': '515.127.4566', 'hdate': '2007-08-10', 'jobid': 'PU_CLERK', 'sal': '2500', 'comm': '', 'mgrid': '114', 'deptid': '30'}, {'fname': 'Matthew', 'lname': 'Weiss', 'email': 'MWEISS', 'phone': '650.123.1234', 'hdate': '2004-07-18', 'jobid': 'ST_MAN', 'sal': '8000', 'comm': '', 'mgrid': '100', 'deptid': '50'}, {'fname': 'Adam', 'lname': 'Fripp', 'email': 'AFRIPP', 'phone': '650.123.2234', 'hdate': '2005-04-10', 'jobid': 'ST_MAN', 'sal': '8200', 'comm': '', 'mgrid': '100', 'deptid': '50'}, {'fname': 'Payam', 'lname': 'Kaufling', 'email': 'PKAUFLIN', 'phone': '650.123.3234', 'hdate': '2003-05-01', 'jobid': 'ST_MAN', 'sal': '7900', 'comm': '', 'mgrid': '100', 'deptid': '50'}, {'fname': 'Shanta', 'lname': 'Vollman', 'email': 'SVOLLMAN', 'phone': '650.123.4234', 'hdate': '2005-10-10', 'jobid': 'ST_MAN', 'sal': '6500', 'comm': '', 'mgrid': '100', 'deptid': '50'}, {'fname': 'Kevin', 'lname': 'Mourgos', 'email': 'KMOURGOS', 'phone': '650.123.5234', 'hdate': '2007-11-16', 'jobid': 'ST_MAN', 'sal': '5800', 'comm': '', 'mgrid': '100', 'deptid': '50'}, {'fname': 'Julia', 'lname': 'Nayer', 'email': 'JNAYER', 'phone': '650.124.1214', 'hdate': '2005-07-16', 'jobid': 'ST_CLERK', 'sal': '3200', 'comm': '', 'mgrid': '120', 'deptid': '50'}, {'fname': 'Irene', 'lname': 'Mikkilineni', 'email': 'IMIKKILI', 'phone': '650.124.1224', 'hdate': '2006-09-28', 'jobid': 'ST_CLERK', 'sal': '2700', 'comm': '', 'mgrid': '120', 'deptid': '50'}, {'fname': 'James', 'lname': 'Landry', 'email': 'JLANDRY', 'phone': '650.124.1334', 'hdate': '2007-01-14', 'jobid': 'ST_CLERK', 'sal': '2400', 'comm': '', 'mgrid': '120', 'deptid': '50'}, {'fname': 'Steven', 'lname': 'Markle', 'email': 'SMARKLE', 'phone': '650.124.1434', 'hdate': '2008-03-08', 'jobid': 'ST_CLERK', 'sal': '2200', 'comm': '', 'mgrid': '120', 'deptid': '50'}, {'fname': 'Laura', 'lname': 'Bissot', 'email': 'LBISSOT', 'phone': '650.124.5234', 'hdate': '2005-08-20', 'jobid': 'ST_CLERK', 'sal': '3300', 'comm': '', 'mgrid': '121', 'deptid': '50'}, {'fname': 'Mozhe', 'lname': 'Atkinson', 'email': 'MATKINSO', 'phone': '650.124.6234', 'hdate': '2005-10-30', 'jobid': 'ST_CLERK', 'sal': '2800', 'comm': '', 'mgrid': '121', 'deptid': '50'}, {'fname': 'James', 'lname': 'Marlow', 'email': 'JAMRLOW', 'phone': '650.124.7234', 'hdate': '2005-02-16', 'jobid': 'ST_CLERK', 'sal': '2500', 'comm': '', 'mgrid': '121', 'deptid': '50'}, {'fname': 'TJ', 'lname': 'Olson', 'email': 'TJOLSON', 'phone': '650.124.8234', 'hdate': '2007-04-10', 'jobid': 'ST_CLERK', 'sal': '2100', 'comm': '', 'mgrid': '121', 'deptid': '50'}, {'fname': 'Jason', 'lname': 'Mallin', 'email': 'JMALLIN', 'phone': '650.127.1934', 'hdate': '2004-06-14', 'jobid': 'ST_CLERK', 'sal': '3300', 'comm': '', 'mgrid': '122', 'deptid': '50'}, {'fname': 'Michael', 'lname': 'Rogers', 'email': 'MROGERS', 'phone': '650.127.1834', 'hdate': '2006-08-26', 'jobid': 'ST_CLERK', 'sal': '2900', 'comm': '', 'mgrid': '122', 'deptid': '50'}, {'fname': 'Ki', 'lname': 'Gee', 'email': 'KGEE', 'phone': '650.127.1734', 'hdate': '2007-12-12', 'jobid': 'ST_CLERK', 'sal': '2400', 'comm': '', 'mgrid': '122', 'deptid': '50'}, {'fname': 'Hazel', 'lname': 'Philtanker', 'email': 'HPHILTAN', 'phone': '650.127.1634', 'hdate': '2008-02-06', 'jobid': 'ST_CLERK', 'sal': '2200', 'comm': '', 'mgrid': '122', 'deptid': '50'}, {'fname': 'Renske', 'lname': 'Ladwig', 'email': 'RLADWIG', 'phone': '650.121.1234', 'hdate': '2003-07-14', 'jobid': 'ST_CLERK', 'sal': '3600', 'comm': '', 'mgrid': '123', 'deptid': '50'}, {'fname': 'Stephen', 'lname': 'Stiles', 'email': 'SSTILES', 'phone': '650.121.2034', 'hdate': '2005-10-26', 'jobid': 'ST_CLERK', 'sal': '3200', 'comm': '', 'mgrid': '123', 'deptid': '50'}, {'fname': 'John', 'lname': 'Seo', 'email': 'JSEO', 'phone': '650.121.2019', 'hdate': '2006-02-12', 'jobid': 'ST_CLERK', 'sal': '2700', 'comm': '', 'mgrid': '123', 'deptid': '50'}, {'fname': 'Joshua', 'lname': 'Patel', 'email': 'JPATEL', 'phone': '650.121.1834', 'hdate': '2006-04-06', 'jobid': 'ST_CLERK', 'sal': '2500', 'comm': '', 'mgrid': '123', 'deptid': '50'}, {'fname': 'Trenna', 'lname': 'Rajs', 'email': 'TRAJS', 'phone': '650.121.8009', 'hdate': '2003-10-17', 'jobid': 'ST_CLERK', 'sal': '3500', 'comm': '', 'mgrid': '124', 'deptid': '50'}, {'fname': 'Curtis', 'lname': 'Davies', 'email': 'CDAVIES', 'phone': '650.121.2994', 'hdate': '2005-01-29', 'jobid': 'ST_CLERK', 'sal': '3100', 'comm': '', 'mgrid': '124', 'deptid': '50'}, {'fname': 'Randall', 'lname': 'Matos', 'email': 'RMATOS', 'phone': '650.121.2874', 'hdate': '2006-03-15', 'jobid': 'ST_CLERK', 'sal': '2600', 'comm': '', 'mgrid': '124', 'deptid': '50'}, {'fname': 'Peter', 'lname': 'Vargas', 'email': 'PVARGAS', 'phone': '650.121.2004', 'hdate': '2006-07-09', 'jobid': 'ST_CLERK', 'sal': '2500', 'comm': '', 'mgrid': '124', 'deptid': '50'}, {'fname': 'John', 'lname': 'Russell', 'email': 'JRUSSEL', 'phone': '011.44.1344.429268', 'hdate': '2004-10-01', 'jobid': 'SA_MAN', 'sal': '14000', 'comm': '0.4', 'mgrid': '100', 'deptid': '80'}, {'fname': 'Karen', 'lname': 'Partners', 'email': 'KPARTNER', 'phone': '011.44.1344.467268', 'hdate': '2005-01-05', 'jobid': 'SA_MAN', 'sal': '13500', 'comm': '0.3', 'mgrid': '100', 'deptid': '80'}, {'fname': 'Alberto', 'lname': 'Errazuriz', 'email': 'AERRAZUR', 'phone': '011.44.1344.429278', 'hdate': '2005-03-10', 'jobid': 'SA_MAN', 'sal': '12000', 'comm': '0.3', 'mgrid': '100', 'deptid': '80'}, {'fname': 'Gerald', 'lname': 'Cambrault', 'email': 'GCAMBRAU', 'phone': '011.44.1344.619268', 'hdate': '2007-10-15', 'jobid': 'SA_MAN', 'sal': '11000', 'comm': '0.3', 'mgrid': '100', 'deptid': '80'}, {'fname': 'Eleni', 'lname': 'Zlotkey', 'email': 'EZLOTKEY', 'phone': '011.44.1344.429018', 'hdate': '2008-01-29', 'jobid': 'SA_MAN', 'sal': '10500', 'comm': '0.2', 'mgrid': '100', 'deptid': '80'}, {'fname': 'Peter', 'lname': 'Tucker', 'email': 'PTUCKER', 'phone': '011.44.1344.129268', 'hdate': '2005-01-30', 'jobid': 'SA_REP', 'sal': '10000', 'comm': '0.3', 'mgrid': '145', 'deptid': '80'}, {'fname': 'David', 'lname': 'Bernstein', 'email': 'DBERNSTE', 'phone': '011.44.1344.345268', 'hdate': '2005-03-24', 'jobid': 'SA_REP', 'sal': '9500', 'comm': '0.25', 'mgrid': '145', 'deptid': '80'}, {'fname': 'Peter', 'lname': 'Hall', 'email': 'PHALL', 'phone': '011.44.1344.478968', 'hdate': '2005-08-20', 'jobid': 'SA_REP', 'sal': '9000', 'comm': '0.25', 'mgrid': '145', 'deptid': '80'}, {'fname': 'Christopher', 'lname': 'Olsen', 'email': 'COLSEN', 'phone': '011.44.1344.498718', 'hdate': '2006-03-30', 'jobid': 'SA_REP', 'sal': '8000', 'comm': '0.2', 'mgrid': '145', 'deptid': '80'}, {'fname': 'Nanette', 'lname': 'Cambrault', 'email': 'NCAMBRAU', 'phone': '011.44.1344.987668', 'hdate': '2006-12-09', 'jobid': 'SA_REP', 'sal': '7500', 'comm': '0.2', 'mgrid': '145', 'deptid': '80'}, {'fname': 'Oliver', 'lname': 'Tuvault', 'email': 'OTUVAULT', 'phone': '011.44.1344.486508', 'hdate': '2007-11-23', 'jobid': 'SA_REP', 'sal': '7000', 'comm': '0.15', 'mgrid': '145', 'deptid': '80'}, {'fname': 'Janette', 'lname': 'King', 'email': 'JKING', 'phone': '011.44.1345.429268', 'hdate': '2004-01-30', 'jobid': 'SA_REP', 'sal': '10000', 'comm': '0.35', 'mgrid': '146', 'deptid': '80'}, {'fname': 'Patrick', 'lname': 'Sully', 'email': 'PSULLY', 'phone': '011.44.1345.929268', 'hdate': '2004-03-04', 'jobid': 'SA_REP', 'sal': '9500', 'comm': '0.35', 'mgrid': '146', 'deptid': '80'}, {'fname': 'Allan', 'lname': 'McEwen', 'email': 'AMCEWEN', 'phone': '011.44.1345.829268', 'hdate': '2004-08-01', 'jobid': 'SA_REP', 'sal': '9000', 'comm': '0.35', 'mgrid': '146', 'deptid': '80'}, {'fname': 'Lindsey', 'lname': 'Smith', 'email': 'LSMITH', 'phone': '011.44.1345.729268', 'hdate': '2005-03-10', 'jobid': 'SA_REP', 'sal': '8000', 'comm': '0.3', 'mgrid': '146', 'deptid': '80'}, {'fname': 'Louise', 'lname': 'Doran', 'email': 'LDORAN', 'phone': '011.44.1345.629268', 'hdate': '2005-12-15', 'jobid': 'SA_REP', 'sal': '7500', 'comm': '0.3', 'mgrid': '146', 'deptid': '80'}, {'fname': 'Sarath', 'lname': 'Sewall', 'email': 'SSEWALL', 'phone': '011.44.1345.529268', 'hdate': '2006-11-03', 'jobid': 'SA_REP', 'sal': '7000', 'comm': '0.25', 'mgrid': '146', 'deptid': '80'}, {'fname': 'Clara', 'lname': 'Vishney', 'email': 'CVISHNEY', 'phone': '011.44.1346.129268', 'hdate': '2005-11-11', 'jobid': 'SA_REP', 'sal': '10500', 'comm': '0.25', 'mgrid': '147', 'deptid': '80'}, {'fname': 'Danielle', 'lname': 'Greene', 'email': 'DGREENE', 'phone': '011.44.1346.229268', 'hdate': '2007-03-19', 'jobid': 'SA_REP', 'sal': '9500', 'comm': '0.15', 'mgrid': '147', 'deptid': '80'}, {'fname': 'Mattea', 'lname': 'Marvins', 'email': 'MMARVINS', 'phone': '011.44.1346.329268', 'hdate': '2008-01-24', 'jobid': 'SA_REP', 'sal': '7200', 'comm': '0.1', 'mgrid': '147', 'deptid': '80'}, {'fname': 'David', 'lname': 'Lee', 'email': 'DLEE', 'phone': '011.44.1346.529268', 'hdate': '2008-02-23', 'jobid': 'SA_REP', 'sal': '6800', 'comm': '0.1', 'mgrid': '147', 'deptid': '80'}, {'fname': 'Sundar', 'lname': 'Ande', 'email': 'SANDE', 'phone': '011.44.1346.629268', 'hdate': '2008-03-24', 'jobid': 'SA_REP', 'sal': '6400', 'comm': '0.1', 'mgrid': '147', 'deptid': '80'}, {'fname': 'Amit', 'lname': 'Banda', 'email': 'ABANDA', 'phone': '011.44.1346.729268', 'hdate': '2008-04-21', 'jobid': 'SA_REP', 'sal': '6200', 'comm': '0.1', 'mgrid': '147', 'deptid': '80'}, {'fname': 'Lisa', 'lname': 'Ozer', 'email': 'LOZER', 'phone': '011.44.1343.929268', 'hdate': '2005-03-11', 'jobid': 'SA_REP', 'sal': '11500', 'comm': '0.25', 'mgrid': '148', 'deptid': '80'}, {'fname': 'Harrison', 'lname': 'Bloom', 'email': 'HBLOOM', 'phone': '011.44.1343.829268', 'hdate': '2006-03-23', 'jobid': 'SA_REP', 'sal': '10000', 'comm': '0.2', 'mgrid': '148', 'deptid': '80'}, {'fname': 'Tayler', 'lname': 'Fox', 'email': 'TFOX', 'phone': '011.44.1343.729268', 'hdate': '2006-01-24', 'jobid': 'SA_REP', 'sal': '9600', 'comm': '0.2', 'mgrid': '148', 'deptid': '80'}, {'fname': 'William', 'lname': 'Smith', 'email': 'WSMITH', 'phone': '011.44.1343.629268', 'hdate': '2007-02-23', 'jobid': 'SA_REP', 'sal': '7400', 'comm': '0.15', 'mgrid': '148', 'deptid': '80'}, {'fname': 'Elizabeth', 'lname': 'Bates', 'email': 'EBATES', 'phone': '011.44.1343.529268', 'hdate': '2007-03-24', 'jobid': 'SA_REP', 'sal': '7300', 'comm': '0.15', 'mgrid': '148', 'deptid': '80'}, {'fname': 'Sundita', 'lname': 'Kumar', 'email': 'SKUMAR', 'phone': '011.44.1343.329268', 'hdate': '2008-04-21', 'jobid': 'SA_REP', 'sal': '6100', 'comm': '0.1', 'mgrid': '148', 'deptid': '80'}, {'fname': 'Ellen', 'lname': 'Abel', 'email': 'EABEL', 'phone': '011.44.1644.429267', 'hdate': '2004-05-11', 'jobid': 'SA_REP', 'sal': '11000', 'comm': '0.3', 'mgrid': '149', 'deptid': '80'}, {'fname': 'Alyssa', 'lname': 'Hutton', 'email': 'AHUTTON', 'phone': '011.44.1644.429266', 'hdate': '2005-03-19', 'jobid': 'SA_REP', 'sal': '8800', 'comm': '0.25', 'mgrid': '149', 'deptid': '80'}, {'fname': 'Jonathon', 'lname': 'Taylor', 'email': 'JTAYLOR', 'phone': '011.44.1644.429265', 'hdate': '2006-03-24', 'jobid': 'SA_REP', 'sal': '8600', 'comm': '0.2', 'mgrid': '149', 'deptid': '80'}, {'fname': 'Jack', 'lname': 'Livingston', 'email': 'JLIVINGS', 'phone': '011.44.1644.429264', 'hdate': '2006-04-23', 'jobid': 'SA_REP', 'sal': '8400', 'comm': '0.2', 'mgrid': '149', 'deptid': '80'}, {'fname': 'Kimberely', 'lname': 'Grant', 'email': 'KGRANT', 'phone': '011.44.1644.429263', 'hdate': '2007-05-24', 'jobid': 'SA_REP', 'sal': '7000', 'comm': '0.15', 'mgrid': '149', 'deptid': ''}, {'fname': 'Charles', 'lname': 'Johnson', 'email': 'CJOHNSON', 'phone': '011.44.1644.429262', 'hdate': '2008-01-04', 'jobid': 'SA_REP', 'sal': '6200', 'comm': '0.1', 'mgrid': '149', 'deptid': '80'}, {'fname': 'Winston', 'lname': 'Taylor', 'email': 'WTAYLOR', 'phone': '650.507.9876', 'hdate': '2006-01-24', 'jobid': 'SH_CLERK', 'sal': '3200', 'comm': '', 'mgrid': '120', 'deptid': '50'}, {'fname': 'Jean', 'lname': 'Fleaur', 'email': 'JFLEAUR', 'phone': '650.507.9877', 'hdate': '2006-02-23', 'jobid': 'SH_CLERK', 'sal': '3100', 'comm': '', 'mgrid': '120', 'deptid': '50'}, {'fname': 'Martha', 'lname': 'Sullivan', 'email': 'MSULLIVA', 'phone': '650.507.9878', 'hdate': '2007-06-21', 'jobid': 'SH_CLERK', 'sal': '2500', 'comm': '', 'mgrid': '120', 'deptid': '50'}, {'fname': 'Girard', 'lname': 'Geoni', 'email': 'GGEONI', 'phone': '650.507.9879', 'hdate': '2008-02-03', 'jobid': 'SH_CLERK', 'sal': '2800', 'comm': '', 'mgrid': '120', 'deptid': '50'}, {'fname': 'Nandita', 'lname': 'Sarchand', 'email': 'NSARCHAN', 'phone': '650.509.1876', 'hdate': '2004-01-27', 'jobid': 'SH_CLERK', 'sal': '4200', 'comm': '', 'mgrid': '121', 'deptid': '50'}, {'fname': 'Alexis', 'lname': 'Bull', 'email': 'ABULL', 'phone': '650.509.2876', 'hdate': '2005-02-20', 'jobid': 'SH_CLERK', 'sal': '4100', 'comm': '', 'mgrid': '121', 'deptid': '50'}, {'fname': 'Julia', 'lname': 'Dellinger', 'email': 'JDELLING', 'phone': '650.509.3876', 'hdate': '2006-06-24', 'jobid': 'SH_CLERK', 'sal': '3400', 'comm': '', 'mgrid': '121', 'deptid': '50'}, {'fname': 'Anthony', 'lname': 'Cabrio', 'email': 'ACABRIO', 'phone': '650.509.4876', 'hdate': '2007-02-07', 'jobid': 'SH_CLERK', 'sal': '3000', 'comm': '', 'mgrid': '121', 'deptid': '50'}, {'fname': 'Kelly', 'lname': 'Chung', 'email': 'KCHUNG', 'phone': '650.505.1876', 'hdate': '2005-06-14', 'jobid': 'SH_CLERK', 'sal': '3800', 'comm': '', 'mgrid': '122', 'deptid': '50'}, {'fname': 'Jennifer', 'lname': 'Dilly', 'email': 'JDILLY', 'phone': '650.505.2876', 'hdate': '2005-08-13', 'jobid': 'SH_CLERK', 'sal': '3600', 'comm': '', 'mgrid': '122', 'deptid': '50'}, {'fname': 'Timothy', 'lname': 'Gates', 'email': 'TGATES', 'phone': '650.505.3876', 'hdate': '2006-07-11', 'jobid': 'SH_CLERK', 'sal': '2900', 'comm': '', 'mgrid': '122', 'deptid': '50'}, {'fname': 'Randall', 'lname': 'Perkins', 'email': 'RPERKINS', 'phone': '650.505.4876', 'hdate': '2007-12-19', 'jobid': 'SH_CLERK', 'sal': '2500', 'comm': '', 'mgrid': '122', 'deptid': '50'}, {'fname': 'Sarah', 'lname': 'Bell', 'email': 'SBELL', 'phone': '650.501.1876', 'hdate': '2004-02-04', 'jobid': 'SH_CLERK', 'sal': '4000', 'comm': '', 'mgrid': '123', 'deptid': '50'}, {'fname': 'Britney', 'lname': 'Everett', 'email': 'BEVERETT', 'phone': '650.501.2876', 'hdate': '2005-03-03', 'jobid': 'SH_CLERK', 'sal': '3900', 'comm': '', 'mgrid': '123', 'deptid': '50'}, {'fname': 'Samuel', 'lname': 'McCain', 'email': 'SMCCAIN', 'phone': '650.501.3876', 'hdate': '2006-07-01', 'jobid': 'SH_CLERK', 'sal': '3200', 'comm': '', 'mgrid': '123', 'deptid': '50'}, {'fname': 'Vance', 'lname': 'Jones', 'email': 'VJONES', 'phone': '650.501.4876', 'hdate': '2007-03-17', 'jobid': 'SH_CLERK', 'sal': '2800', 'comm': '', 'mgrid': '123', 'deptid': '50'}, {'fname': 'Alana', 'lname': 'Walsh', 'email': 'AWALSH', 'phone': '650.507.9811', 'hdate': '2006-04-24', 'jobid': 'SH_CLERK', 'sal': '3100', 'comm': '', 'mgrid': '124', 'deptid': '50'}, {'fname': 'Kevin', 'lname': 'Feeney', 'email': 'KFEENEY', 'phone': '650.507.9822', 'hdate': '2006-05-23', 'jobid': 'SH_CLERK', 'sal': '3000', 'comm': '', 'mgrid': '124', 'deptid': '50'}, {'fname': 'Donald', 'lname': 'OConnell', 'email': 'DOCONNEL', 'phone': '650.507.9833', 'hdate': '2007-06-21', 'jobid': 'SH_CLERK', 'sal': '2600', 'comm': '', 'mgrid': '124', 'deptid': '50'}, {'fname': 'Douglas', 'lname': 'Grant', 'email': 'DGRANT', 'phone': '650.507.9844', 'hdate': '2008-01-13', 'jobid': 'SH_CLERK', 'sal': '2600', 'comm': '', 'mgrid': '124', 'deptid': '50'}, {'fname': 'Jennifer', 'lname': 'Whalen', 'email': 'JWHALEN', 'phone': '515.123.4444', 'hdate': '2003-09-17', 'jobid': 'AD_ASST', 'sal': '4400', 'comm': '', 'mgrid': '101', 'deptid': '10'}, {'fname': 'Michael', 'lname': 'Hartstein', 'email': 'MHARTSTE', 'phone': '515.123.5555', 'hdate': '2004-02-17', 'jobid': 'MK_MAN', 'sal': '13000', 'comm': '', 'mgrid': '100', 'deptid': '20'}, {'fname': 'Pat', 'lname': 'Fay', 'email': 'PFAY', 'phone': '603.123.6666', 'hdate': '2005-08-17', 'jobid': 'MK_REP', 'sal': '6000', 'comm': '', 'mgrid': '201', 'deptid': '20'}, {'fname': 'Susan', 'lname': 'Mavris', 'email': 'SMAVRIS', 'phone': '515.123.7777', 'hdate': '2002-06-07', 'jobid': 'HR_REP', 'sal': '6500', 'comm': '', 'mgrid': '101', 'deptid': '40'}, {'fname': 'Hermann', 'lname': 'Baer', 'email': 'HBAER', 'phone': '515.123.8888', 'hdate': '2002-06-07', 'jobid': 'PR_REP', 'sal': '10000', 'comm': '', 'mgrid': '101', 'deptid': '70'}, {'fname': 'Shelley', 'lname': 'Higgins', 'email': 'SHIGGINS', 'phone': '515.123.8080', 'hdate': '2002-06-07', 'jobid': 'AC_MGR', 'sal': '12008', 'comm': '', 'mgrid': '101', 'deptid': '110'}, {'fname': 'William', 'lname': 'Gietz', 'email': 'WGIETZ', 'phone': '515.123.8181', 'hdate': '2002-06-07', 'jobid': 'AC_ACCOUNT', 'sal': '8300', 'comm': '', 'mgrid': '205', 'deptid': '110'}]\n"
     ]
    }
   ],
   "source": [
    "# 첫번째 요소(컬럼명) 제거             \n",
    "\n",
    "del(emp[0])\n",
    "print(emp)"
   ]
  }
 ],
 "metadata": {
  "kernelspec": {
   "display_name": "Python 2",
   "language": "python",
   "name": "python2"
  },
  "language_info": {
   "codemirror_mode": {
    "name": "ipython",
    "version": 2
   },
   "file_extension": ".py",
   "mimetype": "text/x-python",
   "name": "python",
   "nbconvert_exporter": "python",
   "pygments_lexer": "ipython2",
   "version": "2.7.6"
  }
 },
 "nbformat": 4,
 "nbformat_minor": 0
}

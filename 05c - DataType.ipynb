{
 "cells": [
  {
   "cell_type": "code",
   "execution_count": null,
   "metadata": {
    "collapsed": true
   },
   "outputs": [],
   "source": [
    "# 딕셔너리(사전)\n",
    "\n",
    "# 이름key과 값value으로 구성된 연관 배열의 일종\n",
    "# 자료 생성은 {} 를 이용하고, 이름과 값은 : 으로 구분해서 정의 \n",
    "\n",
    "# 리스트나 튜플처럼 순차적으로 자료를 찾지 않고 키를 통해 자료를 찾기 때문에 속도가 빠르다 "
   ]
  },
  {
   "cell_type": "code",
   "execution_count": 1,
   "metadata": {},
   "outputs": [
    {
     "name": "stdout",
     "output_type": "stream",
     "text": [
      "{'name': '혜교', 'tel': 123456789, 'email': 'abc@xyz.com', 'birth': [123, 456, 789]}\n"
     ]
    }
   ],
   "source": [
    "person = {'name' : '혜교', \n",
    "          'tel': 123456789,\n",
    "          'email': 'abc@xyz.com', \n",
    "          'birth' : [123,456,789]} # 사전 안에 다른 형식의 데이터 타입도 넣을 수 있음\n",
    "\n",
    "print(person)"
   ]
  },
  {
   "cell_type": "code",
   "execution_count": 2,
   "metadata": {},
   "outputs": [
    {
     "name": "stdout",
     "output_type": "stream",
     "text": [
      "{'name': '혜교', 'tel': 123456789, 'email': 'abc@xyz.com', 'birth': [123, 456, 789], 'addr': '서울시 강남구'}\n"
     ]
    }
   ],
   "source": [
    "# 딕셔너리에 새로운 키 : 값 추가 \n",
    "# 변수명[새로운 키] = 값\n",
    "person['addr'] = '서울시 강남구'\n",
    "\n",
    "print(person)"
   ]
  },
  {
   "cell_type": "code",
   "execution_count": 3,
   "metadata": {},
   "outputs": [
    {
     "name": "stdout",
     "output_type": "stream",
     "text": [
      "{'name': '혜교', 'tel': 987654321, 'email': 'abc@xyz.com', 'birth': [123, 456, 789], 'addr': '서울시 강남구'}\n"
     ]
    }
   ],
   "source": [
    "# 딕셔너리에 기존 값 수정 \n",
    "# 변수명[기존키] = 값\n",
    "\n",
    "person['tel'] = 987654321 \n",
    "\n",
    "print(person)"
   ]
  },
  {
   "cell_type": "code",
   "execution_count": 4,
   "metadata": {},
   "outputs": [
    {
     "name": "stdout",
     "output_type": "stream",
     "text": [
      "{'name': '혜교', 'email': 'abc@xyz.com', 'birth': [123, 456, 789], 'addr': '서울시 강남구'}\n"
     ]
    }
   ],
   "source": [
    "# 딕셔너리에 기존 값 삭제\n",
    "#del(변수명[기존키])\n",
    "\n",
    "del(person['tel'])\n",
    "print(person)"
   ]
  },
  {
   "cell_type": "code",
   "execution_count": 7,
   "metadata": {},
   "outputs": [
    {
     "name": "stdout",
     "output_type": "stream",
     "text": [
      "혜교\n혜교\nNone\n"
     ]
    }
   ],
   "source": [
    "# 딕셔너리 값 조회 - 키, get함수\n",
    "\n",
    "print(person['name'])\n",
    "\n",
    "print(person.get('name'))\n",
    "\n",
    "# 두 개는 똑같다\n",
    "\n",
    "\n",
    "# 존재하지 않는 키 넣어보기 \n",
    "\n",
    "#print(person['gender']) # 오류 발생\n",
    "\n",
    "print(person.get('gender')) # 존재하지 않으면 None을 반환 "
   ]
  }
 ],
 "metadata": {
  "kernelspec": {
   "display_name": "Python 2",
   "language": "python",
   "name": "python2"
  },
  "language_info": {
   "codemirror_mode": {
    "name": "ipython",
    "version": 2
   },
   "file_extension": ".py",
   "mimetype": "text/x-python",
   "name": "python",
   "nbconvert_exporter": "python",
   "pygments_lexer": "ipython2",
   "version": "2.7.6"
  }
 },
 "nbformat": 4,
 "nbformat_minor": 0
}
